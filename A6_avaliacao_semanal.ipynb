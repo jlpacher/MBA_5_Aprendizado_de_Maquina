{
 "cells": [
  {
   "cell_type": "markdown",
   "id": "afbd5ac2",
   "metadata": {},
   "source": [
    "# AS6 - AM - RACIOCÍNIO BASEADO EM CASOS E \n",
    "# SISTEMAS DE RECOMENDAÇÃO\n",
    "# Case-Based Reasoning (CBR)"
   ]
  },
  {
   "cell_type": "markdown",
   "id": "05375bbb",
   "metadata": {},
   "source": [
    "### Questão 1:\n",
    "\n",
    "Quais são as partes que compõem um caso em um sistema de raciocínio baseado em casos?<br>\n",
    "\n",
    "a.Atributos preditivos e atributo alvo<br>\n",
    "<font color='red'>b.Problema e solução</font><br>\n",
    "c.Objetos e atributos<br>\n",
    "d.Regras e objetos<br>"
   ]
  },
  {
   "cell_type": "markdown",
   "id": "94ed946a",
   "metadata": {},
   "source": [
    "### Questão 2:\n",
    "\n",
    "O que caracteriza melhor sistemas baseados em conhecimento?<br>\n",
    "\n",
    "a.Cold start<br>\n",
    "b.Facilidade de implementação<br>\n",
    "<font color='red'>c.Itens raros</font><br>\n",
    "d.Raciocínio baseado em casos<br>"
   ]
  },
  {
   "cell_type": "markdown",
   "id": "6d172b66",
   "metadata": {},
   "source": [
    "### Questão 3:\n",
    "\n",
    "Que abordagem funciona melhor quando dados de outros usuários não estão disponíveis?<br>\n",
    "\n",
    "<font color='red'>a.Filtragem por conteúdo</font><br>\n",
    "b.Sistemas baseados em conhecimento<br>\n",
    "c.Recomendação ativa<br>\n",
    "d.Filtragem colaborativa<br>"
   ]
  },
  {
   "cell_type": "markdown",
   "id": "02529ab7",
   "metadata": {},
   "source": [
    "### Questão 4:\n",
    "\n",
    "Que matriz tem usuários nas linhas e itens nas colunas?<br>\n",
    "\n",
    "a.Matiz de fatores latentes<br>\n",
    "<font color='red'>b.Matriz de avaliações</font><br>\n",
    "c.Matriz de confusão<br>\n",
    "d.Matriz de recomendações<br>"
   ]
  },
  {
   "cell_type": "markdown",
   "id": "e3d1e9ad",
   "metadata": {},
   "source": [
    "### Questão 5:\n",
    "\n",
    "Modelos latentes são usados em:<br>\n",
    "\n",
    "a.Recomendação ativa<br>\n",
    "<font color='red'>b.Filtragem colaborativa</font><br>\n",
    "c.Filtragem baseada em conteúdo<br>\n",
    "d.Sistemas baseados em conhecimento<br>"
   ]
  }
 ],
 "metadata": {
  "kernelspec": {
   "display_name": "Python 3",
   "language": "python",
   "name": "python3"
  },
  "language_info": {
   "codemirror_mode": {
    "name": "ipython",
    "version": 3
   },
   "file_extension": ".py",
   "mimetype": "text/x-python",
   "name": "python",
   "nbconvert_exporter": "python",
   "pygments_lexer": "ipython3",
   "version": "3.8.10"
  }
 },
 "nbformat": 4,
 "nbformat_minor": 5
}
