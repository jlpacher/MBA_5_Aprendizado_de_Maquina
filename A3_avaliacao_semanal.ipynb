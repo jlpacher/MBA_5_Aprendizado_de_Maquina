{
 "cells": [
  {
   "cell_type": "markdown",
   "id": "14806b4d",
   "metadata": {},
   "source": [
    "# AS3 - AM - Desempenho Preditivo e Algoritmos de Aprendizado de Máquina"
   ]
  },
  {
   "cell_type": "markdown",
   "id": "100e97d8",
   "metadata": {},
   "source": [
    "### Questão 1:\n",
    "\n",
    "Em que técnica de reamostragem um exemplo do conjunto de dados pode aparecer mais de uma vez em uma partição de treinamento?<br>\n",
    "\n",
    "Escolha uma opção:<br>\n",
    "<font color='red'>a. Bootstrap</font><br>\n",
    "b. Jacknife<br>\n",
    "c. Hold out<br>\n",
    "d. cross-validation<br>"
   ]
  },
  {
   "cell_type": "markdown",
   "id": "bf01ca33",
   "metadata": {},
   "source": [
    "### Questão 2:\n",
    "\n",
    "Para que medida de desempenho preditivo em regressão, quanto maior o valor melhor?<br>\n",
    "\n",
    "Escolha uma opção:<br>\n",
    "a. Raiz do erro quadrático médio (RMSE)<br>\n",
    "b. Nenhuma das anteriores<br>\n",
    "<font color='red'>c. Coeficiente de determinação</font><br>\n",
    "d. Erro percentual absoluto médio<br>"
   ]
  },
  {
   "cell_type": "markdown",
   "id": "e8e20a29",
   "metadata": {},
   "source": [
    "### Questão 3:\n",
    "\n",
    "Que duas taxas medem a mesma coisa?<br>\n",
    "\n",
    "Escolha uma opção:<br>\n",
    "a. Acurácia e AUC<br>\n",
    "b. TFP e TFN<br>\n",
    "c. Especificidade<br>\n",
    "<font color='red'>d. Sensibilidade e Revocação</font><br>"
   ]
  },
  {
   "cell_type": "markdown",
   "id": "69136014",
   "metadata": {},
   "source": [
    "### Questão 4:\n",
    "\n",
    "Qual das medidas seguintes é mais indicada no contexto de dados desbalanceados?<br>\n",
    "\n",
    "Escolha uma opção:<br>\n",
    "a. Especificidade<br>\n",
    "<font color='red'>b. G-mean</font><br>\n",
    "c. F1<br>\n",
    "d. TFN<br>"
   ]
  },
  {
   "cell_type": "markdown",
   "id": "2bc8c1f4",
   "metadata": {},
   "source": [
    "### Questão 5:\n",
    "\n",
    "Marque a alternativa falsa<br>\n",
    "\n",
    "Escolha uma opção:<br>\n",
    "a. No gráfico Precisão-Revocação, quanto mais baixo e mais à esquerda ficar no gráfico, pior o classificador<br>\n",
    "b. No gráfico Precisão-Revocação, quanto mais alto e mais à direita ficar no gráfico, melhor o classificador<br>\n",
    "c. No gráfico ROC, quanto mais baixo e mais à direita ficar no gráfico, pior o classificador<br>\n",
    "<font color='red'>d. No gráfico ROC, quanto mais alto e mais à direita ficar no gráfico, melhor o classificador</font><br>"
   ]
  }
 ],
 "metadata": {
  "kernelspec": {
   "display_name": "Python 3",
   "language": "python",
   "name": "python3"
  },
  "language_info": {
   "codemirror_mode": {
    "name": "ipython",
    "version": 3
   },
   "file_extension": ".py",
   "mimetype": "text/x-python",
   "name": "python",
   "nbconvert_exporter": "python",
   "pygments_lexer": "ipython3",
   "version": "3.8.10"
  }
 },
 "nbformat": 4,
 "nbformat_minor": 5
}
