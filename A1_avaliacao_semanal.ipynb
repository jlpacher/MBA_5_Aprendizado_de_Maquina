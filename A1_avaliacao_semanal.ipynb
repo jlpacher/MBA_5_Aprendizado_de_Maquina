{
 "cells": [
  {
   "cell_type": "markdown",
   "id": "f58ef90e",
   "metadata": {},
   "source": [
    "# AS1_AM_Inteligencia Artificial"
   ]
  },
  {
   "cell_type": "markdown",
   "id": "5c6e6878",
   "metadata": {},
   "source": [
    "Vídeo sobre o ALVINN:\n",
    "https://www.youtube.com/watch?v=2KMAAmkz9go"
   ]
  },
  {
   "cell_type": "markdown",
   "id": "59df1d9d",
   "metadata": {},
   "source": [
    "### Questão 1:\n",
    "Qual a relação entre Inteligência Artificial e Aprendizado de Máquina:<br>\n",
    "\n",
    "Escolha uma opção:<br>\n",
    "a. São áreas totalmente diferentes<br>\n",
    "<font color='red'>b. Aprendizado de Máquina é uma subárea de Inteligência Artificial</font><br>\n",
    "c. Inteligência Artificial  é uma subárea de Aprendizado de Máquina<br>\n",
    "d. Inteligência Artificial  e Aprendizado de Máquina são nomes diferentes para a mesma coisa<br>"
   ]
  },
  {
   "cell_type": "markdown",
   "id": "053dfe04",
   "metadata": {},
   "source": [
    "### Questão 2:\n",
    "\n",
    "Qual o fato mais marcante do Dartmouth Summer Research Project?<br>\n",
    "\n",
    "Escolha uma opção:<br>\n",
    "<font color='red'>a. Foi a primeira vez que foi usado o termo Inteligência Artificial</font><br>\n",
    "b. Foi apresentado o primeiro computador inteligente<br>\n",
    "c. Reuniu pela primeira vez pesquisadores americanos e europeus que trabalhavam com Inteligência Artificial<br>\n",
    "d. Foi apresentada a primeira Rede Neural<br>"
   ]
  },
  {
   "cell_type": "markdown",
   "id": "8107da96",
   "metadata": {},
   "source": [
    "### Questão 3:\n",
    "\n",
    "O que podemos afirmar sobre Inteligência Artificial e Inteligência Computacional<br>\n",
    "\n",
    "Escolha uma opção:<br>\n",
    "a. Inteligência Artificial é o conceito de inteligência em máquinas e Inteligência Computacional é a implementação da Inteligência Artificial  em um computador<br>\n",
    "<font color='red'>b. O termo Inteligência Computacional é mais associado a Redes Neurais</font><br>\n",
    "c. São a mesma coisa, só que com nomes diferentes<br>\n",
    "d. O termo Inteligência Artificial é mais associado a Redes Neurais<br>"
   ]
  },
  {
   "cell_type": "markdown",
   "id": "e56d8213",
   "metadata": {},
   "source": [
    "### Questão 4:\n",
    "\n",
    "Dean Pomerleau é famoso por ter:<br>\n",
    "\n",
    "Escolha uma opção:<br>\n",
    "a. Perdido para um algoritmo de Inteligência Artificial em um jogo de Xadrez<br>\n",
    "b. Mostrado as limitações da Inteligência Artificial<br>\n",
    "c. Criar o algoritmo usado para ler textos em voz alta<br>\n",
    "<font color='red'>d. Criado o primeiro carro autônomo</font><br>"
   ]
  },
  {
   "cell_type": "markdown",
   "id": "14216e7f",
   "metadata": {},
   "source": [
    "### Questão 5:\n",
    "\n",
    "Assinalar a alternativa correta. Não é uma das subáreas da Inteligência Artificial:<br>\n",
    "\n",
    "Escolha uma opção:<br>\n",
    "<font color='red'>a. Banco de Dados</font><br>\n",
    "b. Processamento de linguagem natural<br>\n",
    "c. Lógica<br>\n",
    "d. Robótica<br>"
   ]
  },
  {
   "cell_type": "code",
   "execution_count": null,
   "id": "2e44ad59",
   "metadata": {},
   "outputs": [],
   "source": []
  }
 ],
 "metadata": {
  "kernelspec": {
   "display_name": "Python 3",
   "language": "python",
   "name": "python3"
  },
  "language_info": {
   "codemirror_mode": {
    "name": "ipython",
    "version": 3
   },
   "file_extension": ".py",
   "mimetype": "text/x-python",
   "name": "python",
   "nbconvert_exporter": "python",
   "pygments_lexer": "ipython3",
   "version": "3.8.10"
  }
 },
 "nbformat": 4,
 "nbformat_minor": 5
}
