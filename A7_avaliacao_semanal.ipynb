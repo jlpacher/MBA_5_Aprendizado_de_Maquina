{
 "cells": [
  {
   "cell_type": "markdown",
   "id": "4aa5870e",
   "metadata": {},
   "source": [
    "# AS7 - AM - Redes Neurais e Máquinas de Vetores de Suporte"
   ]
  },
  {
   "cell_type": "markdown",
   "id": "32bd95f8",
   "metadata": {},
   "source": [
    "### Questão 1:\n",
    "\n",
    "O que faz a primeira camada intermediária ou escondida de uma rede neural multicamadas?<br>\n",
    "\n",
    "<font color='red'>a.Divide o espaço de exemplos usando retas ou planos</font><br>\n",
    "b.Divide o espaço de exemplos usando regiões convexas<br>\n",
    "c.Divide o espaço de exemplos usando círculos ou híperesferas<br>\n",
    "d.Divide o espaço de exemplos usando regiões não convexas<br>"
   ]
  },
  {
   "cell_type": "markdown",
   "id": "6a4ebb63",
   "metadata": {},
   "source": [
    "1a.camada: Divide o espaço usando retas (2D) ou hiperplanos (+3D).<br>\n",
    "2a.camada: Divide o espaço combinando os hiperplanos em regiões convexas.<br>\n",
    "3a.camada: Ou saída, formatos arbitrários, um neurônio para cada classe.<br>"
   ]
  },
  {
   "cell_type": "markdown",
   "id": "cccb7e5c",
   "metadata": {},
   "source": [
    "### Questão 2:\n",
    "\n",
    "O que é **FALSO** sobre uma rede perceptron<br>\n",
    "\n",
    "<font color='red'>a.Pode resolver problemas de classificação com mais de duas classes</font><br>\n",
    "b.Usa algoritmo de aprendizado supervisionado<br>\n",
    "c.Tem uma única camada de neurônios<br>\n",
    "d.Se pode encontrar um bom modelo para um conjunto de dados, encontrará este modelo<br>"
   ]
  },
  {
   "cell_type": "code",
   "execution_count": null,
   "id": "eada2c0e",
   "metadata": {},
   "outputs": [],
   "source": [
    "d-OK Teorema da convergência"
   ]
  },
  {
   "cell_type": "markdown",
   "id": "397529f2",
   "metadata": {},
   "source": [
    "### Questão 3:\n",
    "\n",
    "Que função de ativação deve ser evitada para os neurônios das camadas escondidas de uma rede neural MLP?<br>\n",
    "\n",
    "a.Tangente hiperbólica<br>\n",
    "b.Relu<br>\n",
    "c.Sigmoid<br>\n",
    "<font color='red'>d.Linear</font><br>"
   ]
  },
  {
   "cell_type": "markdown",
   "id": "6e604eaa",
   "metadata": {},
   "source": [
    "A Linear deve ser evitada, pois várias camadas com vários neurônios e função de ativação Linear fariam o mesmo papel de um único neurônio com função de ativação Linear.<br>\n",
    "A função de ativação Linear normalmente é usada na saída.<br>"
   ]
  },
  {
   "cell_type": "markdown",
   "id": "cad4cc3a",
   "metadata": {},
   "source": [
    "### Questão 4:\n",
    "\n",
    "Como as SVMs conseguem lidar com problemas não linearmente separáveis<br>\n",
    "\n",
    "a.Fazendo um pré-processamento dos dados antes de treinar as SVMs<br>\n",
    "<font color='red'>b.Utilizando funções kernel</font><br>\n",
    "c.Usando mais de uma camada de SVMs<br>\n",
    "d.Combinando mais de uma SVM<br>"
   ]
  },
  {
   "cell_type": "markdown",
   "id": "0a76d2e0",
   "metadata": {},
   "source": [
    "As funções Kernel transformam 2 pontos do Espaço de Entrada para o Espaço de Características através de um produto escalar, sem ir para ele, aumentando dessa forma o número de dimensões. Ex: 2D-espaço de entrada => 3D-espaço de características.<br>\n",
    "As principais funções Kernel são: Gaussiana RBF (Radial Based Function): mais usada; Polinomial (Linear é um caso de Polinomial), Sigmoidal e Aplicações Específicas.<br>"
   ]
  },
  {
   "cell_type": "markdown",
   "id": "41815bfe",
   "metadata": {},
   "source": [
    "### Questão 5:\n",
    "\n",
    "O que acontece se a dimensão VC tiver um valor alto?<br>\n",
    "\n",
    "a.Aumenta a chance do modelo induzido ser muito simples<br>\n",
    "b.Aumenta a chance do modelo induzido ter um desempenho ruim para os dados de treinamento<br>\n",
    "c.Aumenta a chance do modelo induzido ser muito lento<br>\n",
    "<font color='red'>d.Aumenta a chance do modelo induzido ter um desempenho ruim para os dados de teste</font><br>"
   ]
  },
  {
   "cell_type": "markdown",
   "id": "d7385b47",
   "metadata": {},
   "source": [
    "Quanto maior o VC (dimensão de Vapnik-Chervonenkis), maior a complexidade do modelo e maior a chance de overfitting, ou seja, maior a chance do modelo se ajustar bem demais aos dados de treino mas não conseguir se generalizar, ou seja, se ajustar mal aos dados de teste."
   ]
  }
 ],
 "metadata": {
  "kernelspec": {
   "display_name": "Python 3",
   "language": "python",
   "name": "python3"
  },
  "language_info": {
   "codemirror_mode": {
    "name": "ipython",
    "version": 3
   },
   "file_extension": ".py",
   "mimetype": "text/x-python",
   "name": "python",
   "nbconvert_exporter": "python",
   "pygments_lexer": "ipython3",
   "version": "3.8.10"
  }
 },
 "nbformat": 4,
 "nbformat_minor": 5
}
