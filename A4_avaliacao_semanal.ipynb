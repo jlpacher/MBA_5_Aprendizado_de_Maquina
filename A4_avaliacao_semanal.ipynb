{
 "cells": [
  {
   "cell_type": "markdown",
   "id": "50c354b7",
   "metadata": {},
   "source": [
    "# AS4 - AM - Algoritmos Baseados em Probabilidade"
   ]
  },
  {
   "cell_type": "markdown",
   "id": "7e65bc90",
   "metadata": {},
   "source": [
    "### Questão 1:\n",
    "\n",
    "É falso sobre modelos discriminativos:<br>\n",
    "\n",
    "Escolha uma opção:<br>\n",
    "a. Incluem regressão linear<br>\n",
    "b. Estimam a probabilidade condicional<br>\n",
    "c. Podem gerar uma fronteira de decisão<br>\n",
    "<font color='red'>d. Podem ser gerados pelo algoritmo k-médias</font><br>"
   ]
  },
  {
   "cell_type": "markdown",
   "id": "bf365c1f",
   "metadata": {},
   "source": [
    "### Questão 2:\n",
    "\n",
    "Assinale a alternativa verdadeira:<br>\n",
    "\n",
    "Escolha uma opção:<br>\n",
    "a. Toda regressão polinomial é múltipla<br>\n",
    "<font color='red'>b. A penalidade da regressão de Ridge é a mais usada</font><br>\n",
    "c. Toda regressão múltipla é polinomial<br>\n",
    "d. A penalidade da regressão LASSO é a mais usada<br>"
   ]
  },
  {
   "cell_type": "markdown",
   "id": "dec56b67",
   "metadata": {},
   "source": [
    "### Questão 3:\n",
    "\n",
    "Uma regressão múltipla é aquela que:<br>\n",
    "\n",
    "Escolha uma opção:<br>\n",
    "a. Tem várias operações de multiplicação<br>\n",
    "<font color='red'>b. Tem mais de uma variável</font><br>\n",
    "c. Tem mais de um parâmetro<br>\n",
    "d. Tem mais de um valor de saída<br>"
   ]
  },
  {
   "cell_type": "markdown",
   "id": "7fae976e",
   "metadata": {},
   "source": [
    "### Questão 4:\n",
    "\n",
    "O que acontece quando colocamos x0 em uma regressão linear?<br>\n",
    "\n",
    "Escolha uma opção:<br>\n",
    "a. Tornamos a regressão não linear<br>\n",
    "b. Definimos um novo ponto inicial pra o ajuste dos parâmetros<br>\n",
    "c. Nada<br>\n",
    "<font color='red'>d. Permitimos o ajuste do valor de mais um parâmetro</font><br>"
   ]
  },
  {
   "cell_type": "markdown",
   "id": "3a1a539f",
   "metadata": {},
   "source": [
    "### Questão 5:\n",
    "\n",
    "O que inviabiliza o uso de gradiente descendente?<br>\n",
    "\n",
    "Escolha uma opção:<br>\n",
    "a. A presença de mínimos locais<br>\n",
    "<font color='red'>b. O uso de uma função de custo não diferenciável</font><br>\n",
    "c. Um ponto de mínimo muito baixo<br>\n",
    "d. Ter um grande número de parâmetros<br>"
   ]
  }
 ],
 "metadata": {
  "kernelspec": {
   "display_name": "Python 3",
   "language": "python",
   "name": "python3"
  },
  "language_info": {
   "codemirror_mode": {
    "name": "ipython",
    "version": 3
   },
   "file_extension": ".py",
   "mimetype": "text/x-python",
   "name": "python",
   "nbconvert_exporter": "python",
   "pygments_lexer": "ipython3",
   "version": "3.8.10"
  }
 },
 "nbformat": 4,
 "nbformat_minor": 5
}
