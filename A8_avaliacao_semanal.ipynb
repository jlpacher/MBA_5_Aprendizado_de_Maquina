{
 "cells": [
  {
   "cell_type": "markdown",
   "id": "c7a0ec75",
   "metadata": {},
   "source": [
    "# AS8 - AM - Algoritmos Baseados em Procura, Comitês e AutoML"
   ]
  },
  {
   "cell_type": "markdown",
   "id": "501c5009",
   "metadata": {},
   "source": [
    "### Questão 1:\n",
    "\n",
    "O algoritmo Random Forests é? Baseado em:<br>\n",
    "\n",
    "a.Stacking<br>\n",
    "<font color='red'>b.Bagging</font><br>\n",
    "c.Boosting<br>\n",
    "d.Adaboost<br>"
   ]
  },
  {
   "cell_type": "markdown",
   "id": "46e7eaeb",
   "metadata": {},
   "source": [
    "Random Forests é baseado em Bagging (Bootstrap Aggregating).<br>\n",
    "Bagging é uma combinação paralela de modelos preditores.<br>\n",
    "Bootstrap refere-se à forma de amostragem do conjunto de dados que é feita com reposição.<br>\n",
    "Bom para dados com ruídos.<br>\n",
    "A diferença do RFs para o Bagging puro é que o primeiro permite escolher o número de atributos a cada amostragem para treinar os T modelos, enquanto que o Bagging puro utiliza sempre todos os atributos.<br>"
   ]
  },
  {
   "cell_type": "markdown",
   "id": "6cf3a27c",
   "metadata": {},
   "source": [
    "### Questão 2:\n",
    "\n",
    "Extreme Gradient Boosting usa uma estratégia:<br>\n",
    "\n",
    "<font color='red'>a.Sequencial</font><br>\n",
    "b.Nenhuma das anteriores<br>\n",
    "c.Hierárquica<br>\n",
    "d.Paralela<br>"
   ]
  },
  {
   "cell_type": "markdown",
   "id": "08fd1b38",
   "metadata": {},
   "source": [
    "XGBoost usa a estratégia Boosting que é uma combinação Sequencial de modelos preditores.<br>\n",
    "São utilizados modelos fracos, com baixo desempenho, e cada modelo seguinte vai ajustando os pesos de cada atributo preditivo.<br>\n",
    "No final, tem-se T modelos preditivos fracos e 1 modelo preditivo forte que é o conjunto de todos os preditores.<br>"
   ]
  },
  {
   "cell_type": "markdown",
   "id": "eb827d26",
   "metadata": {},
   "source": [
    "### Questão 3:\n",
    "\n",
    "Assinale a alternativa **FALSA** sobre árvores de decisão.<br>\n",
    "\n",
    "a.Algoritmos de indução de árvores de decisão conseguem lidar com problemas que não são linearmente separáveis<br>\n",
    "<font color='red'>b.Um bom critério de parada é quando os objetos em um nó se distribuem da forma mais uniforme possível entre as possíveis classes</font><br>\n",
    "c.Árvores de decisão têm um baixo custo de indução e de dedução<br>\n",
    "d.Algoritmos de indução de árvores de decisão podem ser usados em conjuntos de dados com atributos preditivos quantitativos e qualitativos<br>"
   ]
  },
  {
   "cell_type": "markdown",
   "id": "970c8c3c",
   "metadata": {},
   "source": [
    "a. OK O espaço das hipóteses é constituído de retângulos (ou hiper-retângulos para 3D+). Além disso é possível uma combinação linear entre os atributos permitindo construir fronteiras de decisão oblíquas.<br>\n",
    "b. NOK O que queremos é exatamente o contrário. Queremos que um nó (raiz ou interno) seja o mais puro possível para que possa se transformar em folha (nó externo).<br>"
   ]
  },
  {
   "cell_type": "markdown",
   "id": "4a566dbb",
   "metadata": {},
   "source": [
    "### Questão 4:\n",
    "\n",
    "O que é um meta-atributo preditivo?<br>\n",
    "\n",
    "a.Um subconjunto dos atributos preditivos de um conjunto de dados<br>\n",
    "<font color='red'>b.Uma característica extraída de um conjunto de dados</font><br>\n",
    "c.Uma descrição textual de um atributo preditivo<br>\n",
    "d.Um atributo que pode ser preditivo ou alvo<br>"
   ]
  },
  {
   "cell_type": "markdown",
   "id": "3a315468",
   "metadata": {},
   "source": [
    "Em AutoML os meta-atributos preditivos são obtidos a partir das características extraídas do conjunto de dados.<br>"
   ]
  },
  {
   "cell_type": "markdown",
   "id": "975e75db",
   "metadata": {},
   "source": [
    "### Questão 5:\n",
    "\n",
    "Algoritmos de indução de árvore de decisão usam uma estratégia:<br>\n",
    "\n",
    "a.Paralela<br>\n",
    "b.Lazy (preguiçosa)<br>\n",
    "<font color='red'>c.Gulosa</font><br>\n",
    "d.Baseada em distância<br>"
   ]
  },
  {
   "cell_type": "markdown",
   "id": "f28844bb",
   "metadata": {},
   "source": [
    "Árvores de Decisão (AD) ou Decision Trees (DT) são interpretáveis, possuem um nó raiz (um atributo preditivo), nós internos (demais atributos preditivos) e nós externos ou folhas (classes ou valores numéricos).<br>\n",
    "Para isso usam a estratégia gulosa, ou seja, pega todo o dataset e divide progressivamente os objetos.<br>"
   ]
  }
 ],
 "metadata": {
  "kernelspec": {
   "display_name": "Python 3",
   "language": "python",
   "name": "python3"
  },
  "language_info": {
   "codemirror_mode": {
    "name": "ipython",
    "version": 3
   },
   "file_extension": ".py",
   "mimetype": "text/x-python",
   "name": "python",
   "nbconvert_exporter": "python",
   "pygments_lexer": "ipython3",
   "version": "3.8.10"
  }
 },
 "nbformat": 4,
 "nbformat_minor": 5
}
