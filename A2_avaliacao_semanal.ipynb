{
 "cells": [
  {
   "cell_type": "markdown",
   "id": "5f386868",
   "metadata": {},
   "source": [
    "# AS2 - AM - Tarefas e Experimentos de Aprendizado de Máquina"
   ]
  },
  {
   "cell_type": "markdown",
   "id": "fb2f67b9",
   "metadata": {},
   "source": [
    "### Questão 1:\n",
    "\n",
    "Assinalar a alternativa correta sobre tarefas de aprendizado e algoritmo de aprendizado de máquina?<br>\n",
    "\n",
    "Escolha uma opção:<br>\n",
    "a. Tarefas descritivas podem ser resolvidas por algoritmos de aprendizado por reforço<br>\n",
    "b. Tarefas descritivas só podem resolvidas por algoritmos não supervisionados<br>\n",
    "c. Tarefas preditivas só podem resolvidas por algoritmos supervisionados<br>\n",
    "<font color='red'>d. Tarefas preditivas podem ser resolvidas por algoritmos não supervisionados</font><br>"
   ]
  },
  {
   "cell_type": "markdown",
   "id": "214cfe92",
   "metadata": {},
   "source": [
    "### Questão 2:\n",
    "\n",
    "Qual das opções abaixo NÃO é uma tarefa de aprendizado de máquina?<br>\n",
    "\n",
    "Escolha uma opção:<br>\n",
    "<font color='red'>a. Tarefas supervisionadas</font><br>\n",
    "b. Tarefas prescritivas<br>\n",
    "c. Tarefas de agrupamento<br>\n",
    "d. Tarefas de regressão<br>"
   ]
  },
  {
   "cell_type": "markdown",
   "id": "6a59f339",
   "metadata": {},
   "source": [
    "### Questão 3:\n",
    "\n",
    "Assinalar a alternativa correta. Qual o melhor cenário relacionado a viés e variância:<br>\n",
    "\n",
    "Escolha uma opção:<br>\n",
    "a. Viés alto e variância baixa<br>\n",
    "b. Viés alto e variância alta<br>\n",
    "c. Viés baixo e variância alta<br>\n",
    "<font color='red'>d. Viés baixo e variância baixa</font><br>"
   ]
  },
  {
   "cell_type": "markdown",
   "id": "29a0e1eb",
   "metadata": {},
   "source": [
    "### Questão 4:\n",
    "\n",
    "O que o usuário de um algoritmo de aprendizado de máquina pode ajustar diretamente?<br>\n",
    "\n",
    "Escolha uma opção:<br>\n",
    "a. Valores dos hiper-parâmetros do modelo<br>\n",
    "<font color='red'>b. Valores dos hiper-parâmetros do algoritmo</font><br>\n",
    "c. Valores dos parâmetros do algoritmo<br>\n",
    "d. Valores dos parâmetros e hiper-parâmetros do algoritmo<br>"
   ]
  },
  {
   "cell_type": "markdown",
   "id": "b4843037",
   "metadata": {},
   "source": [
    "### Questão 5:\n",
    "\n",
    "Assinalar a alternativa correta sobre viés indutivo de um algoritmo de aprendizado de máquina:<br>\n",
    "\n",
    "Escolha uma opção:<br>\n",
    "a. Não afeta o desempenho dos modelos<br>\n",
    "b. É ruim<br>\n",
    "<font color='red'>c. É necessário</font><br>\n",
    "d. É bom<br>"
   ]
  },
  {
   "cell_type": "code",
   "execution_count": null,
   "id": "6045d2c7",
   "metadata": {},
   "outputs": [],
   "source": []
  }
 ],
 "metadata": {
  "kernelspec": {
   "display_name": "Python 3",
   "language": "python",
   "name": "python3"
  },
  "language_info": {
   "codemirror_mode": {
    "name": "ipython",
    "version": 3
   },
   "file_extension": ".py",
   "mimetype": "text/x-python",
   "name": "python",
   "nbconvert_exporter": "python",
   "pygments_lexer": "ipython3",
   "version": "3.8.10"
  }
 },
 "nbformat": 4,
 "nbformat_minor": 5
}
