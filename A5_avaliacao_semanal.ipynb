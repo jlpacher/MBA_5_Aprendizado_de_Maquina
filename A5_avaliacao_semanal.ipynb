{
 "cells": [
  {
   "cell_type": "markdown",
   "id": "ce3afe2b",
   "metadata": {},
   "source": [
    "# AS5 - AM - ALGORITMOS BASEADOS EM PROXIMIDADE <br> (\"INSTANCE BASED LEARNING\")"
   ]
  },
  {
   "cell_type": "markdown",
   "id": "90eb46f5",
   "metadata": {},
   "source": [
    "### Questão 1:\n",
    "\n",
    "O algoritmo k-NN é descrito como:<br>\n",
    "\n",
    "Escolha uma opção:<br>\n",
    "\n",
    "a.Rápido (Fast)<br>\n",
    "b.Ansioso (Eager)<br>\n",
    "c.Lento (slow)<br>\n",
    "<font color='red'>d.Preguiçoso (lazy)</font><br>"
   ]
  },
  {
   "cell_type": "markdown",
   "id": "cdfe92e5",
   "metadata": {},
   "source": [
    "KNN => Lazy (Preguiçoso) => Não tem fase de treinamento (base só é usada quando necessário comparar um exemplo/objeto)<br>\n",
    "DT => Eager (Ansioso) => Induz um modelo a partir da base de treinamento => fase de teste é mais rápida"
   ]
  },
  {
   "cell_type": "markdown",
   "id": "75803cb6",
   "metadata": {},
   "source": [
    "### Questão 2:\n",
    "\n",
    "Que propriedade faz de uma medida uma métrica?<br>\n",
    "\n",
    "Escolha uma opção:<br>\n",
    "\n",
    "<font color='red'>a.Desigualdade triangular</font><br>\n",
    "b.simetria<br>\n",
    "c.falta de simetria<br>\n",
    "d.igualdade triangular<br>"
   ]
  },
  {
   "cell_type": "markdown",
   "id": "d47a96c9",
   "metadata": {},
   "source": [
    "Medidas de Dissimilaridade (=distância) devem satisfazer os seguintes axiomas (propriedades) para ser considerada uma métrica (abstrata): distância entre 2 objetos p e q com definida positiva e simetria; adicionalmente a desigualdade triangular."
   ]
  },
  {
   "cell_type": "markdown",
   "id": "5c94c308",
   "metadata": {},
   "source": [
    "### Questão 3:\n",
    "\n",
    "A distância máxima também é conhecida como:<br>\n",
    "\n",
    "Escolha uma opção:<br>\n",
    "\n",
    "a.caixeiro viajante<br>\n",
    "b.Bloco cidade<br>\n",
    "<font color='red'>c.do tabuleiro de xadrez</font><br>\n",
    "d.geometria do taxi<br>"
   ]
  },
  {
   "cell_type": "markdown",
   "id": "03d900dd",
   "metadata": {},
   "source": [
    "Distância de Minkowski = distância generalizada<br>\n",
    "r=1 = L1 = Distância de Manhattan, bloco cidade ou geometria do táxi; Hamming para valores binários<br>\n",
    "r=2 = L2 = Distância Euclidiana;<br>\n",
    "r=inf = Linf ou Lmax = Distância de Chebyshev ou do tabuleiro de xadrez.<br>\n"
   ]
  },
  {
   "cell_type": "markdown",
   "id": "149b9371",
   "metadata": {},
   "source": [
    "### Questão 4:\n",
    "\n",
    "NÃO é uma operação de edição:<br>\n",
    "\n",
    "Escolha uma opção:<br>\n",
    "\n",
    "a.Inserção<br>\n",
    "<font color='red'>b.Duplicação</font><br>\n",
    "c.Deleção<br>\n",
    "d.Substituição<br>"
   ]
  },
  {
   "cell_type": "markdown",
   "id": "902a5cb9",
   "metadata": {},
   "source": [
    "Função de Edição numa sequência: Deleção, inserção ou substituição de um símbolo.<br>\n",
    "Uma das mais usadas é a Distância de Levenshtein.<br>"
   ]
  },
  {
   "cell_type": "markdown",
   "id": "bbda8fde",
   "metadata": {},
   "source": [
    "### Questão 5:\n",
    "\n",
    "Para que tarefa o algoritmo k-NN NÃO é usado?<br>\n",
    "\n",
    "Escolha uma opção:<br>\n",
    "\n",
    "<font color='red'>a.Agrupamento</font><br>\n",
    "b.Nenhuma das anteriores<br>\n",
    "c.Classificação<br>\n",
    "d.Regressão<br>"
   ]
  },
  {
   "cell_type": "markdown",
   "id": "78ff63d2",
   "metadata": {},
   "source": [
    "O algoritmo k-NN é usado para tarefas preditivas que podem ser de classificação ou regressão.<br>\n",
    "K-Means que é um outro algoritmo é usado para tarefas descritivas como por exemplo agrupamento."
   ]
  }
 ],
 "metadata": {
  "kernelspec": {
   "display_name": "Python 3",
   "language": "python",
   "name": "python3"
  },
  "language_info": {
   "codemirror_mode": {
    "name": "ipython",
    "version": 3
   },
   "file_extension": ".py",
   "mimetype": "text/x-python",
   "name": "python",
   "nbconvert_exporter": "python",
   "pygments_lexer": "ipython3",
   "version": "3.8.10"
  }
 },
 "nbformat": 4,
 "nbformat_minor": 5
}
